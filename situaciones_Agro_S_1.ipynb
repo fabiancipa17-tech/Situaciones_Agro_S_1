{
  "nbformat": 4,
  "nbformat_minor": 0,
  "metadata": {
    "colab": {
      "provenance": [],
      "authorship_tag": "ABX9TyM6exMiWCqpfEsY/RBvTarv",
      "include_colab_link": true
    },
    "kernelspec": {
      "name": "python3",
      "display_name": "Python 3"
    },
    "language_info": {
      "name": "python"
    }
  },
  "cells": [
    {
      "cell_type": "markdown",
      "metadata": {
        "id": "view-in-github",
        "colab_type": "text"
      },
      "source": [
        "<a href=\"https://colab.research.google.com/github/fabiancipa17-tech/Situaciones_Agro_S_1/blob/main/situaciones_Agro_S_1.ipynb\" target=\"_parent\"><img src=\"https://colab.research.google.com/assets/colab-badge.svg\" alt=\"Open In Colab\"/></a>"
      ]
    },
    {
      "cell_type": "code",
      "execution_count": null,
      "metadata": {
        "id": "hqFnNuR7mF7M"
      },
      "outputs": [],
      "source": []
    },
    {
      "cell_type": "markdown",
      "source": [
        "# Situaciones de ingenieria agricola\n",
        "\n",
        "Un agricultor necesita saber cuántos kilogramos\n",
        "de semilla de maíz debe comprar para sembrar un lote rectangular. Conoce la densidad de siembra\n",
        "recomendada (kg por hectárea) y las dimensiones del lote (largo y ancho en metros).\n",
        "\n",
        "\n",
        "\n"
      ],
      "metadata": {
        "id": "NYVsBKn0qslq"
      }
    },
    {
      "cell_type": "code",
      "source": [
        "# 1. Saludar al usuario y explicar qué hace el programa.\n",
        "print(\"Biemvenido al progama de cálculo de densidad de siembra\")\n",
        "\n",
        "#2. Pedir al usuario que ingrese el largo del lote en metros (input sin convertir).\n",
        "largo = float(input(\"Ingrese el largo del lote en metros: \"))\n",
        "\n"
      ],
      "metadata": {
        "colab": {
          "base_uri": "https://localhost:8080/"
        },
        "id": "iVATBW4MrWPV",
        "outputId": "f4da53dc-5423-4ad2-d818-f2fc66f19f86"
      },
      "execution_count": 5,
      "outputs": [
        {
          "name": "stdout",
          "output_type": "stream",
          "text": [
            "Biemvenido al progama de cálculo de densidad de siembra\n",
            "Ingrese el largo del lote en metros: 25\n",
            "Ingrese el ancho del lote en metros: 15\n"
          ]
        }
      ]
    },
    {
      "cell_type": "markdown",
      "source": [],
      "metadata": {
        "id": "3Byyrl-FqsCA"
      }
    },
    {
      "cell_type": "code",
      "source": [
        "largo"
      ],
      "metadata": {
        "colab": {
          "base_uri": "https://localhost:8080/"
        },
        "id": "msFQSRWlvmFh",
        "outputId": "091556e1-1186-4d5b-aad4-6ed2935be5cf"
      },
      "execution_count": 6,
      "outputs": [
        {
          "output_type": "execute_result",
          "data": {
            "text/plain": [
              "25.0"
            ]
          },
          "metadata": {},
          "execution_count": 6
        }
      ]
    },
    {
      "cell_type": "code",
      "source": [
        "largo/10\n"
      ],
      "metadata": {
        "colab": {
          "base_uri": "https://localhost:8080/"
        },
        "id": "bGx9S17fvn-I",
        "outputId": "da1b5682-f214-4c46-dfd4-d407527103d1"
      },
      "execution_count": 7,
      "outputs": [
        {
          "output_type": "execute_result",
          "data": {
            "text/plain": [
              "2.5"
            ]
          },
          "metadata": {},
          "execution_count": 7
        }
      ]
    },
    {
      "cell_type": "code",
      "source": [
        "#3. Pedir el ancho del lote en metros (input NO USES FLOAT).\n",
        "ancho = input(\"Ingrese el ancho del lote en metros: \")\n"
      ],
      "metadata": {
        "colab": {
          "base_uri": "https://localhost:8080/"
        },
        "id": "YwWDqYUBvrr5",
        "outputId": "e9030860-d8a0-43df-9073-6bb2c409ab64"
      },
      "execution_count": 8,
      "outputs": [
        {
          "name": "stdout",
          "output_type": "stream",
          "text": [
            "Ingrese el ancho del lote en metros: 15\n"
          ]
        }
      ]
    },
    {
      "cell_type": "code",
      "source": [
        "# 4. Pedir la densidad de siembra en kg/hectárea (input)."
      ],
      "metadata": {
        "id": "hXI0ErzOxlWr"
      },
      "execution_count": 9,
      "outputs": []
    },
    {
      "cell_type": "code",
      "source": [
        "# 5. Convertir las entradas de texto a números decimales (float).\n",
        "largo = float(largo)\n",
        "ancho = float(ancho)\n",
        "densidad = float(densidad)\n",
        "# 6. Calcular el área en metros cuadrados (largo * ancho).\n",
        "area = largo * ancho\n",
        "# 7. Convertir el área a hectáreas (1 hectárea = 10,000 m2).\n",
        "\n",
        "\n",
        ""
      ],
      "metadata": {
        "id": "mPDFobQAx1QY"
      },
      "execution_count": 13,
      "outputs": []
    },
    {
      "cell_type": "code",
      "source": [],
      "metadata": {
        "id": "iQeNH7Ewx6JC"
      },
      "execution_count": null,
      "outputs": []
    },
    {
      "cell_type": "markdown",
      "metadata": {
        "id": "2d6fc43a"
      },
      "source": [
        "Aquí tienes la explicación línea por línea del código anterior:\n",
        "\n",
        "```python\n",
        "# 1. Saludar al usuario y explicar qué hace el programa.\n",
        "print(\"Biemvenido al progama de cálculo de densidad de siembra\")\n",
        "```\n",
        "Esta línea imprime un mensaje de bienvenida al usuario, indicando el propósito del programa.\n",
        "\n",
        "```python\n",
        "#2. Pedir al usuario que ingrese el largo del lote en metros (input sin convertir).\n",
        "largo = float(input(\"Ingrese el largo del lote en metros: \"))\n",
        "```\n",
        "Esta línea solicita al usuario que ingrese el largo del lote en metros. La función `input()` lee la entrada del usuario como texto. La función `float()` convierte esa entrada de texto a un número decimal (flotante) y lo almacena en la variable `largo`.\n",
        "\n",
        "```python\n",
        "#3. Pedir el ancho del lote en metros (input NO USES FLOAT).\n",
        "ancho = input(\"Ingrese el ancho del lote en metros: \")\n",
        "```\n",
        "Esta línea solicita al usuario que ingrese el ancho del lote en metros. La función `input()` lee la entrada del usuario como texto y la almacena en la variable `ancho` sin convertirla a número en este paso.\n",
        "\n",
        "```python\n",
        "# 4. Pedir la densidad de siembra en kg/hectárea (input).\n",
        "```\n",
        "Este es un comentario que indica que la siguiente parte del código debería solicitar la densidad de siembra. Sin embargo, la línea de código real para solicitar la densidad no está presente en el fragmento proporcionado.\n",
        "\n",
        "```python\n",
        "# 5. Convertir las entradas de texto a números decimales (float).\n",
        "largo = float(largo)\n",
        "ancho = float(ancho)\n",
        "densidad = float(densidad)\n",
        "# 6. Calcular el área en metros cuadrados (largo * ancho).\n",
        "area = largo * ancho\n",
        "# 7. Convertir el área a hectáreas (1 hectárea = 10,000 m2).\n",
        "```\n",
        "Estas líneas realizan varias operaciones:\n",
        "- Convierten las variables `largo` y `ancho` (que ya se habían ingresado) a números decimales usando `float()`. Aunque `largo` ya se había convertido, esta línea asegura que ambas variables sean flotantes antes de los cálculos. **Nota:** La variable `densidad` se intenta convertir a `float()`, pero no se ha solicitado su valor previamente, lo que causaría un error si se ejecutara este código tal cual.\n",
        "- Calcula el área del lote en metros cuadrados multiplicando `largo` por `ancho` y almacena el resultado en la variable `area`.\n",
        "- El comentario `# 7. Convertir el área a hectáreas (1 hectárea = 10,000 m2).` indica la siguiente operación lógica, pero la línea de código para realizar esta conversión no está presente en el fragmento proporcionado.\n",
        "\n",
        "```python\n",
        "\n",
        "```\n",
        "Esta es una celda de código vacía.\n"
      ]
    }
  ]
}